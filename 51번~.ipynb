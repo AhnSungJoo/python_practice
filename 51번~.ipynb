{
 "cells": [
  {
   "cell_type": "code",
   "execution_count": 7,
   "metadata": {},
   "outputs": [
    {
     "name": "stdout",
     "output_type": "stream",
     "text": [
      "[45, 145, 165, 170, 171, 173, 175, 180]\n"
     ]
    }
   ],
   "source": [
    "# 51 번\n",
    "def merge_sort(target_list):\n",
    "    list_length = len(target_list)\n",
    "    if list_length <= 1:\n",
    "        return target_list\n",
    "    mid = list_length // 2\n",
    "    left = merge_sort(target_list[:mid])\n",
    "    right = merge_sort(target_list[mid:])\n",
    "    answer = []\n",
    "    \n",
    "    while len(left) > 0 and len(right) > 0:\n",
    "        if left[0] < right[0]:\n",
    "            answer.append(left.pop(0))\n",
    "        else:\n",
    "            answer.append(right.pop(0))\n",
    "    while left:\n",
    "        answer.append(left.pop(0))\n",
    "    while right:\n",
    "        answer.append(right.pop(0))\n",
    "    return answer\n",
    "\n",
    "target = [180, 145, 165, 45, 170, 175, 173, 171]\n",
    "print(merge_sort(target))"
   ]
  },
  {
   "cell_type": "code",
   "execution_count": 23,
   "metadata": {},
   "outputs": [
    {
     "name": "stdout",
     "output_type": "stream",
     "text": [
      "[45, 145, 165, 170, 171, 173, 175, 180]\n"
     ]
    }
   ],
   "source": [
    "# 52 번\n",
    "def quick_sort(target_list):\n",
    "#     print('target_list: ', target_list)\n",
    "    list_length = len(target_list)\n",
    "    if list_length <= 1:\n",
    "        return target_list\n",
    "    flag_val = target_list.pop(list_length // 2)\n",
    "#     print('flag: ', flag_val)\n",
    "    left = list()\n",
    "    right = list()\n",
    "    \n",
    "    for i in range(list_length - 1):\n",
    "        if target_list[i] <= flag_val:\n",
    "            left.append(target_list[i])\n",
    "        else:\n",
    "            right.append(target_list[i])\n",
    "    \n",
    "#     print('left: ', left, 'right: ', right)\n",
    "    return quick_sort(left) + [flag_val] + quick_sort(right)\n",
    "\n",
    "target = [180, 145, 165, 45, 170, 175, 173, 171]\n",
    "print(quick_sort(target))"
   ]
  },
  {
   "cell_type": "code",
   "execution_count": 37,
   "metadata": {},
   "outputs": [
    {
     "name": "stdout",
     "output_type": "stream",
     "text": [
      "({})\n",
      "YES\n"
     ]
    }
   ],
   "source": [
    "# 53 번\n",
    "bracket_set = ['(', ')', '{', '}','[', ']']\n",
    "set_cnt= [0]* 6\n",
    "\n",
    "input_str = input()\n",
    "for idx, bracket in enumerate(bracket_set):\n",
    "    set_cnt[idx] = input_str.count(bracket_set[idx])\n",
    "\n",
    "flag = True\n",
    "for i in range(0, len(set_cnt), 2):\n",
    "    if set_cnt[i] != set_cnt[i+1]:\n",
    "        flag = False\n",
    "        break\n",
    "if flag:\n",
    "    print('YES')\n",
    "else:\n",
    "    print('NO')"
   ]
  },
  {
   "cell_type": "code",
   "execution_count": 42,
   "metadata": {},
   "outputs": [
    {
     "name": "stdout",
     "output_type": "stream",
     "text": [
      "1 4 2 6 3\n",
      "NO\n"
     ]
    }
   ],
   "source": [
    "# 54 번 \n",
    "li = list(map(int, input().split()))\n",
    "comp = [i for i in range(li[0], len(li)+1)]\n",
    "\n",
    "if sorted(li) == comp:\n",
    "    print('YES')\n",
    "else:\n",
    "    print('NO')"
   ]
  },
  {
   "cell_type": "code",
   "execution_count": 43,
   "metadata": {},
   "outputs": [],
   "source": [
    "# 55 번"
   ]
  },
  {
   "cell_type": "code",
   "execution_count": 54,
   "metadata": {},
   "outputs": [
    {
     "name": "stdout",
     "output_type": "stream",
     "text": [
      "England 22023\n"
     ]
    }
   ],
   "source": [
    "# 56 번\n",
    "\n",
    "national_set = {\n",
    "    'korea': 220877,\n",
    "    'Rusia': 17098242,\n",
    "    'China': 9596961,\n",
    "    'France': 543965,\n",
    "    'Japan': 377915,\n",
    "    'England': 242900\n",
    "}\n",
    "korea = national_set['korea']\n",
    "diff = 0\n",
    "idx = 0\n",
    "con = ''\n",
    "\n",
    "for key, value in national_set.items():\n",
    "    if key == 'korea':\n",
    "        continue\n",
    "    elif idx == 0:\n",
    "        con = key\n",
    "        if korea >= value:\n",
    "            diff = korea- value\n",
    "        else:\n",
    "            diff = value - korea\n",
    "        idx += 1\n",
    "    else:\n",
    "        temp_diff = 0\n",
    "        if korea >= value:\n",
    "            temp_diff = korea- value\n",
    "        else:\n",
    "            temp_diff = value - korea\n",
    "        if temp_diff < diff:\n",
    "            diff = temp_diff\n",
    "            con = key\n",
    "        idx += 1\n",
    "        \n",
    "print(con, diff)"
   ]
  },
  {
   "cell_type": "code",
   "execution_count": null,
   "metadata": {},
   "outputs": [],
   "source": []
  }
 ],
 "metadata": {
  "kernelspec": {
   "display_name": "Python 3",
   "language": "python",
   "name": "python3"
  },
  "language_info": {
   "codemirror_mode": {
    "name": "ipython",
    "version": 3
   },
   "file_extension": ".py",
   "mimetype": "text/x-python",
   "name": "python",
   "nbconvert_exporter": "python",
   "pygments_lexer": "ipython3",
   "version": "3.7.2"
  }
 },
 "nbformat": 4,
 "nbformat_minor": 2
}
