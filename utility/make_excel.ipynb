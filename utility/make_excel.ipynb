{
 "cells": [
  {
   "cell_type": "code",
   "execution_count": 4,
   "metadata": {},
   "outputs": [],
   "source": [
    "import MySQLdb\n",
    "db4 = {  # real_db\n",
    "    'host': '',\n",
    "    'port': ,\n",
    "    'user': '',\n",
    "    'passwd': '',\n",
    "    'db': ''\n",
    "}\n",
    "db_infos = {\n",
    "    'real': {'host': db4['host'], 'port': db4['port'],\n",
    "            'user': db4['user'], 'passwd': db4['passwd'], 'db': db4['db']}\n",
    "}\n",
    "def get_connect():\n",
    "    db_info = db_infos['real']\n",
    "    db = MySQLdb.connect(host=db_info['host'], port=db_info['port'],\n",
    "                         user=db_info['user'], passwd=db_info['passwd'], db=db_info['db'], charset='utf8')\n",
    "\n",
    "    # db.autocommit(True)\n",
    "    return db"
   ]
  },
  {
   "cell_type": "code",
   "execution_count": 20,
   "metadata": {},
   "outputs": [],
   "source": [
    "def make_data():\n",
    "    user_set = dict()\n",
    "    data_set = list()\n",
    "    data_set.append(get_article_writer_cnt_include_source())\n",
    "    data_set.append(get_article_writer_cnt_not_include_source())\n",
    "    data_set.append(get_article_writer_cnt())\n",
    "    data_set.append(get_credit_count())\n",
    "    data_set.append(get_comment())\n",
    "    \n",
    "    for idx, data in enumerate(data_set):\n",
    "        title = ''\n",
    "        if idx == 0:\n",
    "            title = 'source'\n",
    "        elif idx == 1:\n",
    "            title = 'algorithm'\n",
    "        elif idx == 2:\n",
    "            title = 'article'\n",
    "        elif idx == 3:\n",
    "            title = 'credit'\n",
    "        elif idx == 4:\n",
    "            title = 'comment'\n",
    "        for user_id, cnt in data:\n",
    "            if user_id not in user_set:\n",
    "                user_set[user_id] = dict()\n",
    "            user_set[user_id][title] = cnt\n",
    "\n",
    "    return user_set"
   ]
  },
  {
   "cell_type": "code",
   "execution_count": 32,
   "metadata": {},
   "outputs": [
    {
     "name": "stdout",
     "output_type": "stream",
     "text": [
      "Requirement already satisfied: openpyxl in /Library/Frameworks/Python.framework/Versions/3.7/lib/python3.7/site-packages (2.6.2)\n",
      "Requirement already satisfied: jdcal in /Library/Frameworks/Python.framework/Versions/3.7/lib/python3.7/site-packages (from openpyxl) (1.4.1)\n",
      "Requirement already satisfied: et_xmlfile in /Library/Frameworks/Python.framework/Versions/3.7/lib/python3.7/site-packages (from openpyxl) (1.0.1)\n"
     ]
    }
   ],
   "source": [
    "!pip3 install openpyxl"
   ]
  },
  {
   "cell_type": "code",
   "execution_count": 1,
   "metadata": {},
   "outputs": [
    {
     "ename": "ValueError",
     "evalue": "Title must have at least one character",
     "output_type": "error",
     "traceback": [
      "\u001b[0;31m--------------------------------------------------------------------------\u001b[0m",
      "\u001b[0;31mValueError\u001b[0m                               Traceback (most recent call last)",
      "\u001b[0;32m<ipython-input-1-9968ae12f742>\u001b[0m in \u001b[0;36m<module>\u001b[0;34m\u001b[0m\n\u001b[1;32m      3\u001b[0m \u001b[0msheet1\u001b[0m \u001b[0;34m=\u001b[0m \u001b[0mwb\u001b[0m\u001b[0;34m.\u001b[0m\u001b[0mactive\u001b[0m\u001b[0;34m\u001b[0m\u001b[0;34m\u001b[0m\u001b[0m\n\u001b[1;32m      4\u001b[0m \u001b[0mfile_name\u001b[0m \u001b[0;34m=\u001b[0m \u001b[0;34m'result.xlsx'\u001b[0m\u001b[0;34m\u001b[0m\u001b[0;34m\u001b[0m\u001b[0m\n\u001b[0;32m----> 5\u001b[0;31m \u001b[0msheet1\u001b[0m\u001b[0;34m.\u001b[0m\u001b[0mtitle\u001b[0m \u001b[0;34m=\u001b[0m \u001b[0;34m''\u001b[0m\u001b[0;34m\u001b[0m\u001b[0;34m\u001b[0m\u001b[0m\n\u001b[0m\u001b[1;32m      6\u001b[0m \u001b[0;34m\u001b[0m\u001b[0m\n\u001b[1;32m      7\u001b[0m \u001b[0mdata_set\u001b[0m \u001b[0;34m=\u001b[0m \u001b[0mmake_data\u001b[0m\u001b[0;34m(\u001b[0m\u001b[0;34m)\u001b[0m\u001b[0;34m\u001b[0m\u001b[0;34m\u001b[0m\u001b[0m\n",
      "\u001b[0;32m/Library/Frameworks/Python.framework/Versions/3.7/lib/python3.7/site-packages/openpyxl/workbook/child.py\u001b[0m in \u001b[0;36mtitle\u001b[0;34m(self, value)\u001b[0m\n\u001b[1;32m     82\u001b[0m \u001b[0;34m\u001b[0m\u001b[0m\n\u001b[1;32m     83\u001b[0m         \u001b[0;32mif\u001b[0m \u001b[0;32mnot\u001b[0m \u001b[0mvalue\u001b[0m\u001b[0;34m:\u001b[0m\u001b[0;34m\u001b[0m\u001b[0;34m\u001b[0m\u001b[0m\n\u001b[0;32m---> 84\u001b[0;31m             \u001b[0;32mraise\u001b[0m \u001b[0mValueError\u001b[0m\u001b[0;34m(\u001b[0m\u001b[0;34m\"Title must have at least one character\"\u001b[0m\u001b[0;34m)\u001b[0m\u001b[0;34m\u001b[0m\u001b[0;34m\u001b[0m\u001b[0m\n\u001b[0m\u001b[1;32m     85\u001b[0m \u001b[0;34m\u001b[0m\u001b[0m\n\u001b[1;32m     86\u001b[0m         \u001b[0;32mif\u001b[0m \u001b[0mhasattr\u001b[0m\u001b[0;34m(\u001b[0m\u001b[0mvalue\u001b[0m\u001b[0;34m,\u001b[0m \u001b[0;34m\"decode\"\u001b[0m\u001b[0;34m)\u001b[0m\u001b[0;34m:\u001b[0m\u001b[0;34m\u001b[0m\u001b[0;34m\u001b[0m\u001b[0m\n",
      "\u001b[0;31mValueError\u001b[0m: Title must have at least one character"
     ]
    }
   ],
   "source": [
    "from openpyxl import load_workbook, Workbook\n",
    "wb = Workbook()\n",
    "sheet1 = wb.active\n",
    "file_name = 'result.xlsx'\n",
    "sheet1.title = ''\n",
    "\n",
    "data_set = make_data()\n",
    "key_list = [key for key in data_set.keys()]\n",
    "for idx in range(2, len(data_set) + 2):\n",
    "    sheet1.cell(row=idx, column=1).value = key_list[idx-2]\n",
    "    if 'source' not in data_set[key_list[idx-2]]:\n",
    "        sheet1.cell(row=idx, column=2).value = 0\n",
    "    else:\n",
    "        sheet1.cell(row=idx, column=2).value = data_set[key_list[idx-2]]['source']\n",
    "    if 'algorithm' not in data_set[key_list[idx-2]]:\n",
    "        sheet1.cell(row=idx, column=3).value = 0\n",
    "    else:\n",
    "        sheet1.cell(row=idx, column=3).value = data_set[key_list[idx-2]]['algorithm']\n",
    "    if 'article' not in data_set[key_list[idx-2]]:\n",
    "        sheet1.cell(row=idx, column=4).value = 0\n",
    "    else:\n",
    "        sheet1.cell(row=idx, column=4).value = data_set[key_list[idx-2]]['article']\n",
    "    if 'credit' not in data_set[key_list[idx-2]]:\n",
    "        sheet1.cell(row=idx, column=5).value = 0\n",
    "    else:\n",
    "        sheet1.cell(row=idx, column=5).value = data_set[key_list[idx-2]]['credit']\n",
    "    if 'comment' not in data_set[key_list[idx-2]]:\n",
    "        sheet1.cell(row=idx, column=6).value = 0\n",
    "    else:\n",
    "        sheet1.cell(row=idx, column=6).value = data_set[key_list[idx-2]]['comment']\n",
    "\n",
    "wb.save(filename=file_name)"
   ]
  },
  {
   "cell_type": "code",
   "execution_count": null,
   "metadata": {},
   "outputs": [],
   "source": []
  }
 ],
 "metadata": {
  "kernelspec": {
   "display_name": "Python 3",
   "language": "python",
   "name": "python3"
  },
  "language_info": {
   "codemirror_mode": {
    "name": "ipython",
    "version": 3
   },
   "file_extension": ".py",
   "mimetype": "text/x-python",
   "name": "python",
   "nbconvert_exporter": "python",
   "pygments_lexer": "ipython3",
   "version": "3.7.2"
  }
 },
 "nbformat": 4,
 "nbformat_minor": 2
}
