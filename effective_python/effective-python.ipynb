{
 "cells": [
  {
   "cell_type": "markdown",
   "metadata": {},
   "source": [
    "# * 파이썬 코딩의 기술 따라하기\n",
    "\n",
    "- 예제코드 따라하기\n",
    "- 중요 문구 / 기억 문구 정리"
   ]
  },
  {
   "cell_type": "markdown",
   "metadata": {},
   "source": [
    "### - Better Way 1 사용 중인 파이썬의 버전을 알자"
   ]
  },
  {
   "cell_type": "markdown",
   "metadata": {},
   "source": [
    "commad    \n",
    "python --version or python3 --version\n",
    "\n",
    "정리   \n",
    "python 에는 CPython, Jython, IronPython, PyPy와 같은 다양한 런타임이 있다. "
   ]
  },
  {
   "cell_type": "markdown",
   "metadata": {},
   "source": [
    "### - Better Way 2 PEP 8 스타일 가이드를 따르자"
   ]
  },
  {
   "cell_type": "markdown",
   "metadata": {},
   "source": [
    "url : https://www.python.org/dev/peps/pep-0008/   \n",
    "\n",
    "#### **화이트스페이스**  \n",
    "* 탭이 아닌 스페이스로 들여쓴다.\n",
    "* 문법적으로 의미 있는 들여쓰기는 각 수준마다 스페이스 네 개를 사용한다.\n",
    "* 한 줄의 문자 길이가 79자 이하여야 한다. \n",
    "\n",
    "**명명**\n",
    "* 함수, 변수, 속성은 lowercase_underscore 형식을 따른다.\n",
    "* 보호 인스턴스 속성은 _leading_underscore 형식을 따른다.\n",
    "\n",
    "**표현식과 문장**\n",
    "* 길이를 확인하여 빈 값을 확인하고자 않는다.\n",
    "if (len(somelist) == 0) 대신 if not somelist 사용"
   ]
  },
  {
   "cell_type": "markdown",
   "metadata": {},
   "source": [
    "### - Better Way 3 bytes, str, unicode의 차이점을 알자 \n",
    "파이썬 3에서는 bytes 와 str 두 가지 타입으로 문자 시퀀스를 나타낸다.  \n",
    "bytes 인스턴스는 raw 8비트 값을 저장한다. str 인스턴스는 유니코드 문자를 저장한다.  \n",
    "\n",
    "파이썬 3에서는 먼저 str이나 bytes를 입력으로 받고 str을 반환하는 메서드가 필요하다."
   ]
  },
  {
   "cell_type": "code",
   "execution_count": 9,
   "metadata": {},
   "outputs": [],
   "source": [
    "# ex) str이나 bytes를 입력으로 받고 str을 반환하는 메서드\n",
    "# bytes code type example ) b'\\x80abc'\n",
    "def to_str(bytes_or_str):\n",
    "    if isinstance(bytes_or_str, bytes): # 인스턴스와 클래스를 인자로 받아 인스터스가 해당 클래스의 인스턴스인지 확인\n",
    "        value = bytes_or_str.decode('utf-8', 'ignore')\n",
    "    else:\n",
    "        value = bytes_or_str\n",
    "    return value # str 인스턴스"
   ]
  },
  {
   "cell_type": "code",
   "execution_count": 10,
   "metadata": {},
   "outputs": [
    {
     "name": "stdout",
     "output_type": "stream",
     "text": [
      "abc\n"
     ]
    }
   ],
   "source": [
    "print(to_str(b'\\x80abc'))"
   ]
  },
  {
   "cell_type": "code",
   "execution_count": 11,
   "metadata": {},
   "outputs": [
    {
     "name": "stdout",
     "output_type": "stream",
     "text": [
      "b'abc'\n"
     ]
    }
   ],
   "source": [
    "# ex 2) str이나 bytes를 받고 bytes를 반환하는 메서드도 필요하다.\n",
    "def to_bytes(bytes_or_str):\n",
    "    if isinstance(bytes_or_str, str):\n",
    "        value = bytes_or_str.encode('utf-8')\n",
    "    else:\n",
    "        value = bytes_or_str\n",
    "    return value\n",
    "\n",
    "print(to_bytes('abc'))"
   ]
  },
  {
   "cell_type": "markdown",
   "metadata": {},
   "source": [
    "### - Better Way 4 복잡한 표현식 대신 헬퍼 함수를 작성하자\n",
    "  \n",
    "파이썬의 간결한 문법을 이용하면 많은 로직을 표현식 한 줄로 쉽게 작성할 수 있다.  \n",
    "예를 들어 URL에서 쿼리 문자열을 디코드해야 한다고 하자. 다음예에서 각 쿼리 문자열 파라미터는 정수 값을 표현한다."
   ]
  },
  {
   "cell_type": "code",
   "execution_count": 12,
   "metadata": {},
   "outputs": [
    {
     "name": "stdout",
     "output_type": "stream",
     "text": [
      "{'red': ['5'], 'blue': ['0'], 'green': ['']}\n"
     ]
    }
   ],
   "source": [
    "from urllib.parse import parse_qs\n",
    "my_values = parse_qs('red=5&blue=0&green=', keep_blank_values=True)\n",
    "print(repr(my_values))"
   ]
  },
  {
   "cell_type": "code",
   "execution_count": 16,
   "metadata": {},
   "outputs": [
    {
     "name": "stdout",
     "output_type": "stream",
     "text": [
      "Red:     ['5']\n",
      "green:     ['']\n",
      "opacity:     None\n",
      "---------------------\n",
      "green:     0\n"
     ]
    }
   ],
   "source": [
    "# 존재하지만 값이 비어 있는 경우 => 디폴트 값 0 지정 \n",
    "print('Red:    ', my_values.get('red'))\n",
    "print('green:    ', my_values.get('green'))\n",
    "print('opacity:    ', my_values.get('opacity'))\n",
    "\n",
    "print('---------------------')\n",
    "red = my_values.get('red', [''])\n",
    "red = int(red[0]) if red[0] else 0\n",
    "\n",
    "# more better => make helper function\n",
    "def get_first_init(values, key, default=0):\n",
    "    found = values.get(key, [''])\n",
    "    if found[0]:\n",
    "        found = int(found[0])\n",
    "    else:\n",
    "        found = default\n",
    "    return found\n",
    "\n",
    "green = print('green:    ', get_first_init(my_values, 'green'))"
   ]
  },
  {
   "cell_type": "markdown",
   "metadata": {},
   "source": [
    "### - Better Way 5 시퀀스를 슬라이스하는 방법을 알자 (중요)\n",
    "\n",
    "파이썬은 시퀀스를 슬라이스해서 조각으로 만드는 문법을 제공한다.  \n",
    "이렇게 슬라이스하면 최소한의 노력으로 시퀀스 아이템의 부분집합(subset)에 접근할 수 있다.  \n",
    "대상은 내장 타입이 list, str, bytes이다. __getitem__, __setitem__ 이라는 특별한 메서드를 구현하는 파이썬의 클래스에도 슬라이싱을 적용할 수 있다.  \n",
    "\n",
    "**가장 기본적인 포멧:** somelist[start:end] 여기서 start 인덱스는 포함, end 인덱스는 제외이다."
   ]
  },
  {
   "cell_type": "code",
   "execution_count": 19,
   "metadata": {},
   "outputs": [
    {
     "name": "stdout",
     "output_type": "stream",
     "text": [
      "First four:  ['a', 'b', 'c', 'd']\n",
      "last four:  ['e', 'f', 'g', 'h']\n",
      "Middle Two:  ['d', 'e']\n"
     ]
    }
   ],
   "source": [
    "a = ['a', 'b', 'c', 'd', 'e', 'f', 'g', 'h']\n",
    "print('First four: ', a[:4])\n",
    "print('last four: ', a[-4:])\n",
    "print('Middle Two: ', a[3:-3])"
   ]
  },
  {
   "cell_type": "code",
   "execution_count": 21,
   "metadata": {},
   "outputs": [],
   "source": [
    "assert a[:5] == a[0:5]\n",
    "assert a[5:] == a[5:len(a)]"
   ]
  },
  {
   "cell_type": "code",
   "execution_count": 23,
   "metadata": {},
   "outputs": [
    {
     "data": {
      "text/plain": [
       "['a', 'b', 'c', 'd', 'e']"
      ]
     },
     "execution_count": 23,
     "metadata": {},
     "output_type": "execute_result"
    }
   ],
   "source": [
    "a[:]\n",
    "a[:5]"
   ]
  },
  {
   "cell_type": "markdown",
   "metadata": {},
   "source": [
    "#### Note \n",
    "리스트의 인덱스를 음수 변수로 지정하면 슬라이싱으로 뜻밖의 결과를 얻는 몇 가지 상황이 있다. 그 중 n이 0일때 somelist[-0:]이 되면 원본 리스트의 복사본을 만든다."
   ]
  },
  {
   "cell_type": "code",
   "execution_count": 24,
   "metadata": {},
   "outputs": [
    {
     "name": "stdout",
     "output_type": "stream",
     "text": [
      "Before:  ['a', 'b', 'c', 'd', 'e', 'f', 'g', 'h']\n",
      "After:  ['a', 'b', 99, 22, 14, 'h']\n"
     ]
    }
   ],
   "source": [
    "print('Before: ', a)\n",
    "a[2:7] = [99, 22, 14]\n",
    "print('After: ', a)"
   ]
  },
  {
   "cell_type": "markdown",
   "metadata": {},
   "source": [
    "### - Better Way 6 한 슬라이스에 start, end , stride를 함께 쓰지 말자\n",
    "\n",
    "파이썬에는 somelist[start:end:stride]처럼 슬라이스의 스트라이드(간격)을 설정하는 특별한 문법도 있다. 이 문법을 이용하면 시퀀스를 슬라이스할 대 매 n 번째 아이템을 가져올 수 있다."
   ]
  },
  {
   "cell_type": "code",
   "execution_count": 25,
   "metadata": {},
   "outputs": [
    {
     "name": "stdout",
     "output_type": "stream",
     "text": [
      "['red', 'yellow', 'blue']\n",
      "['orange', 'green', 'purple']\n"
     ]
    }
   ],
   "source": [
    "a = ['red', 'orange', 'yellow', 'green', 'blue', 'purple']\n",
    "odds = a[::2]\n",
    "evens = a[1::2]\n",
    "print(odds)\n",
    "print(evens)"
   ]
  },
  {
   "cell_type": "code",
   "execution_count": 27,
   "metadata": {},
   "outputs": [
    {
     "data": {
      "text/plain": [
       "['orange', 'red']"
      ]
     },
     "execution_count": 27,
     "metadata": {},
     "output_type": "execute_result"
    }
   ],
   "source": [
    "# stride를 쓰려면 start나 end 중 하나와 같이 쓰자\n",
    "a[1::-1]"
   ]
  },
  {
   "cell_type": "markdown",
   "metadata": {},
   "source": [
    "### - Better Way 7 map과 filter대신 컴프리헨션을 사용하자.\n",
    "\n",
    "파이썬에는 한 리스트에서 다른 리스트를 만들어내는 간결한 문법이 있다.  \n",
    "이 문법을 사용한 표현식을 리스트 컴피르헨션이라고 한다."
   ]
  },
  {
   "cell_type": "code",
   "execution_count": 32,
   "metadata": {},
   "outputs": [
    {
     "name": "stdout",
     "output_type": "stream",
     "text": [
      "[1, 4, 9, 16, 25, 36, 49, 64, 81, 100]\n"
     ]
    }
   ],
   "source": [
    "# ex 1) 리스트의 각 원소를 제곱\n",
    "a = [i for i in range(1,11)]\n",
    "# 리스트 컴프리헨션\n",
    "squares = [x ** 2 for x in a]\n",
    "print(squares)"
   ]
  },
  {
   "cell_type": "code",
   "execution_count": 35,
   "metadata": {},
   "outputs": [
    {
     "name": "stdout",
     "output_type": "stream",
     "text": [
      "<map object at 0x1052b1b50>\n"
     ]
    }
   ],
   "source": [
    "# map 이용 => 람다 함수를 생성해야 해서 깔끔해보이지 않는다.\n",
    "squares2 = map(lambda x: x ** 2, a)\n",
    "print(squares2)"
   ]
  },
  {
   "cell_type": "code",
   "execution_count": 42,
   "metadata": {},
   "outputs": [
    {
     "name": "stdout",
     "output_type": "stream",
     "text": [
      "[4, 16, 36, 64, 100]\n"
     ]
    }
   ],
   "source": [
    "# even squares\n",
    "even_squares = [x ** 2 for x in a if x % 2==0]\n",
    "print(even_squares)\n",
    "\n",
    "# map 사용\n",
    "alt = map(lambda x: x**2, filter(lambda x: x % 2 == 0, a))\n",
    "assert even_squares == list(alt)"
   ]
  },
  {
   "cell_type": "markdown",
   "metadata": {},
   "source": [
    "***딕셔너리와 세트에도 리스트 컴프리헨션에 해당하는 문법이 있다.  \n",
    "컴프리헨션 문법을 쓰면 알고리즘을 작성할 때 파생되는 자료 구조를 쉽게 생성할 수 있다**"
   ]
  },
  {
   "cell_type": "code",
   "execution_count": 43,
   "metadata": {},
   "outputs": [
    {
     "name": "stdout",
     "output_type": "stream",
     "text": [
      "{1: 'ghost', 2: 'habanero', 3: 'cayeene'}\n",
      "{8, 5, 7}\n"
     ]
    }
   ],
   "source": [
    "# ex )\n",
    "chile_ranks = {'ghost': 1, 'habanero':2, 'cayeene': 3}\n",
    "rank_dict = {rank: name for name, rank in chile_ranks.items()}\n",
    "chile_len_set = {len(name) for name in rank_dict.values()}\n",
    "print(rank_dict)\n",
    "print(chile_len_set)"
   ]
  },
  {
   "cell_type": "markdown",
   "metadata": {},
   "source": [
    "### - Better Way 8 리스트 컴프리헨션에서 표현식을 두 개 넘게 쓰지 말자 \n",
    "\n",
    "리스트 컴프리헨션은 다중 루프도 지원한다. "
   ]
  },
  {
   "cell_type": "code",
   "execution_count": 44,
   "metadata": {},
   "outputs": [
    {
     "name": "stdout",
     "output_type": "stream",
     "text": [
      "[1, 2, 3, 4, 5, 6, 7, 8, 9]\n"
     ]
    }
   ],
   "source": [
    "# ex) \n",
    "matrix = [[1,2,3], [4,5,6], [7,8,9]]\n",
    "flat = [x for row in matrix for x in row]\n",
    "print(flat)"
   ]
  },
  {
   "cell_type": "code",
   "execution_count": 46,
   "metadata": {},
   "outputs": [
    {
     "name": "stdout",
     "output_type": "stream",
     "text": [
      "[[1, 4, 9], [16, 25, 36], [49, 64, 81]]\n"
     ]
    }
   ],
   "source": [
    "# 2차원 행렬 구성하기\n",
    "squared = [[x**2 for x in row] for row in matrix]\n",
    "print(squared)"
   ]
  },
  {
   "cell_type": "code",
   "execution_count": 48,
   "metadata": {},
   "outputs": [
    {
     "data": {
      "text/plain": [
       "[6, 8, 10]"
      ]
     },
     "execution_count": 48,
     "metadata": {},
     "output_type": "execute_result"
    }
   ],
   "source": [
    "# ex ) 다중 if 조건\n",
    "a = [i for i in range(1,11)]\n",
    "b = [x for x in a if x > 4 if x % 2 == 0]\n",
    "c = [x for x in a if x > 4 if x % 2 == 0]\n",
    "b"
   ]
  },
  {
   "cell_type": "markdown",
   "metadata": {},
   "source": [
    "**조건은 루프의 각 레벨에서 for 표현식 뒤에 설정할 수 있다.  \n",
    "예를 들어 행렬에서 로우의 합이 10 이상이고 3으로 나누어 떨어지는 셀을 구한다고 하자. 다음처럼 리스트 컴프리헨션으로 표현하면 간단하지만 이해하기가 매우 어렵다.**"
   ]
  },
  {
   "cell_type": "markdown",
   "metadata": {},
   "source": [
    "### **결론: 표현식이 두 개를 넘어가면 컴프리헨션은 피하자!**"
   ]
  },
  {
   "cell_type": "markdown",
   "metadata": {},
   "source": [
    "### - Better Way 9 컴프리헨션이 클 때는 제너레이터 표현식을 고려하자.\n",
    "\n",
    "리스트 컴프리헨션의 문제점은 입력 시퀀스에 있는 각 값별로 아이템을 하나씩 담은 새 리스트를 통째로 생성한다는 점이다.  \n",
    "입력이 적을 때는 괜찮지만 클 때는 메모리를 많이 소모해서 프로그램을 망가뜨리는 원인이 되기도 한다.  \n",
    "\n",
    "\n",
    "예를 들어 파일을 읽고 각 줄에 있는 문자의 개수를 반환한다고 하자.  \n",
    "이 작업을 리스트 컴프리헨션으로 하면 파일에 있는 각 줄의 길이만큼 메모리가 필요하다.  \n",
    "파일에 오류가 있거나 끊김이 없는 네트워크 소켓일 경우 리스트 컴프리헨션을 사용하면 문제가 발생한다.  \n",
    "다음은 입력값이 적은 경우만 처리할 수 있는 방식으로 리스트 컴프리헨션을 사용한 예다.  "
   ]
  },
  {
   "cell_type": "code",
   "execution_count": 49,
   "metadata": {},
   "outputs": [
    {
     "ename": "FileNotFoundError",
     "evalue": "[Errno 2] No such file or directory: '/tmp/my_file.txt'",
     "output_type": "error",
     "traceback": [
      "\u001b[0;31m---------------------------------------------------------------------------\u001b[0m",
      "\u001b[0;31mFileNotFoundError\u001b[0m                         Traceback (most recent call last)",
      "\u001b[0;32m<ipython-input-49-0a41eee13855>\u001b[0m in \u001b[0;36m<module>\u001b[0;34m\u001b[0m\n\u001b[0;32m----> 1\u001b[0;31m \u001b[0mvalue\u001b[0m \u001b[0;34m=\u001b[0m \u001b[0;34m[\u001b[0m\u001b[0mlen\u001b[0m\u001b[0;34m(\u001b[0m\u001b[0mx\u001b[0m\u001b[0;34m)\u001b[0m \u001b[0;32mfor\u001b[0m \u001b[0mx\u001b[0m \u001b[0;32min\u001b[0m \u001b[0mopen\u001b[0m\u001b[0;34m(\u001b[0m\u001b[0;34m'/tmp/my_file.txt'\u001b[0m\u001b[0;34m)\u001b[0m\u001b[0;34m]\u001b[0m\u001b[0;34m\u001b[0m\u001b[0;34m\u001b[0m\u001b[0m\n\u001b[0m\u001b[1;32m      2\u001b[0m \u001b[0mprint\u001b[0m\u001b[0;34m(\u001b[0m\u001b[0mvalue\u001b[0m\u001b[0;34m)\u001b[0m\u001b[0;34m\u001b[0m\u001b[0;34m\u001b[0m\u001b[0m\n",
      "\u001b[0;31mFileNotFoundError\u001b[0m: [Errno 2] No such file or directory: '/tmp/my_file.txt'"
     ]
    }
   ],
   "source": [
    "value = [len(x) for x in open('/tmp/my_file.txt')]\n",
    "print(value)"
   ]
  },
  {
   "cell_type": "markdown",
   "metadata": {},
   "source": [
    "**파이썬은 이 문제를 해결하려고 리스트 컴프리핸션과 제너레이터를 일반화한 제너레이터 표현식을 제공한다.  \n",
    "제너레이터 표현식은 실행될 때 출력 시퀀스를 모두 구체화(여기서는 메모리에 로딩)하지 않는다.  \n",
    "대신에 표현식에서 한 번에 한 아이템을 내주는 이테레이터로 평가된다.**"
   ]
  },
  {
   "cell_type": "code",
   "execution_count": 50,
   "metadata": {},
   "outputs": [
    {
     "ename": "NameError",
     "evalue": "name 'it' is not defined",
     "output_type": "error",
     "traceback": [
      "\u001b[0;31m---------------------------------------------------------------------------\u001b[0m",
      "\u001b[0;31mNameError\u001b[0m                                 Traceback (most recent call last)",
      "\u001b[0;32m<ipython-input-50-6f239c2bb2ff>\u001b[0m in \u001b[0;36m<module>\u001b[0;34m\u001b[0m\n\u001b[1;32m      1\u001b[0m \u001b[0;31m# generator 표현식은 () 문자 사이에 리스트 컴프리헨션과 비슷한 문법을 사용하여 생성\u001b[0m\u001b[0;34m\u001b[0m\u001b[0;34m\u001b[0m\u001b[0;34m\u001b[0m\u001b[0m\n\u001b[0;32m----> 2\u001b[0;31m \u001b[0mit\u001b[0m \u001b[0;34m(\u001b[0m\u001b[0mlen\u001b[0m\u001b[0;34m(\u001b[0m\u001b[0mx\u001b[0m\u001b[0;34m)\u001b[0m \u001b[0;32mfor\u001b[0m \u001b[0mx\u001b[0m \u001b[0;32min\u001b[0m \u001b[0mopen\u001b[0m\u001b[0;34m(\u001b[0m\u001b[0;34m'/tmp/my_file.txt'\u001b[0m\u001b[0;34m)\u001b[0m\u001b[0;34m)\u001b[0m\u001b[0;34m\u001b[0m\u001b[0;34m\u001b[0m\u001b[0m\n\u001b[0m\u001b[1;32m      3\u001b[0m \u001b[0mprint\u001b[0m\u001b[0;34m(\u001b[0m\u001b[0mit\u001b[0m\u001b[0;34m)\u001b[0m\u001b[0;34m\u001b[0m\u001b[0;34m\u001b[0m\u001b[0m\n\u001b[1;32m      4\u001b[0m \u001b[0mprint\u001b[0m\u001b[0;34m(\u001b[0m\u001b[0mnext\u001b[0m\u001b[0;34m(\u001b[0m\u001b[0mit\u001b[0m\u001b[0;34m)\u001b[0m\u001b[0;34m)\u001b[0m\u001b[0;34m\u001b[0m\u001b[0;34m\u001b[0m\u001b[0m\n\u001b[1;32m      5\u001b[0m \u001b[0mprint\u001b[0m\u001b[0;34m(\u001b[0m\u001b[0mnext\u001b[0m\u001b[0;34m(\u001b[0m\u001b[0mit\u001b[0m\u001b[0;34m)\u001b[0m\u001b[0;34m)\u001b[0m\u001b[0;34m\u001b[0m\u001b[0;34m\u001b[0m\u001b[0m\n",
      "\u001b[0;31mNameError\u001b[0m: name 'it' is not defined"
     ]
    }
   ],
   "source": [
    "# generator 표현식은 () 문자 사이에 리스트 컴프리헨션과 비슷한 문법을 사용하여 생성\n",
    "it (len(x) for x in open('/tmp/my_file.txt'))\n",
    "print(it)\n",
    "print(next(it))\n",
    "print(next(it))"
   ]
  },
  {
   "cell_type": "markdown",
   "metadata": {},
   "source": [
    "**제너레이터 표현식의 또 다른 강력한 결과는 다른 제너레이터 표현식과 함께 사용할 수 있다는 점이다.**"
   ]
  },
  {
   "cell_type": "code",
   "execution_count": 51,
   "metadata": {},
   "outputs": [
    {
     "ename": "NameError",
     "evalue": "name 'it' is not defined",
     "output_type": "error",
     "traceback": [
      "\u001b[0;31m---------------------------------------------------------------------------\u001b[0m",
      "\u001b[0;31mNameError\u001b[0m                                 Traceback (most recent call last)",
      "\u001b[0;32m<ipython-input-51-51431912741f>\u001b[0m in \u001b[0;36m<module>\u001b[0;34m\u001b[0m\n\u001b[0;32m----> 1\u001b[0;31m \u001b[0mroots\u001b[0m \u001b[0;34m=\u001b[0m \u001b[0;34m(\u001b[0m\u001b[0;34m(\u001b[0m\u001b[0mx\u001b[0m\u001b[0;34m,\u001b[0m \u001b[0mx\u001b[0m\u001b[0;34m**\u001b[0m\u001b[0;36m0.5\u001b[0m\u001b[0;34m)\u001b[0m \u001b[0;32mfor\u001b[0m \u001b[0mx\u001b[0m \u001b[0;32min\u001b[0m \u001b[0mit\u001b[0m\u001b[0;34m)\u001b[0m\u001b[0;34m\u001b[0m\u001b[0;34m\u001b[0m\u001b[0m\n\u001b[0m\u001b[1;32m      2\u001b[0m \u001b[0mprint\u001b[0m\u001b[0;34m(\u001b[0m\u001b[0mnext\u001b[0m\u001b[0;34m(\u001b[0m\u001b[0mroots\u001b[0m\u001b[0;34m)\u001b[0m\u001b[0;34m)\u001b[0m\u001b[0;34m\u001b[0m\u001b[0;34m\u001b[0m\u001b[0m\n",
      "\u001b[0;31mNameError\u001b[0m: name 'it' is not defined"
     ]
    }
   ],
   "source": [
    "roots = ((x, x**0.5) for x in it)\n",
    "print(next(roots))"
   ]
  },
  {
   "cell_type": "markdown",
   "metadata": {},
   "source": [
    "### - Better Way 10 range 보다는 enumerate를 사용하자.\n",
    "\n",
    "내장함수 range는 정수 집합을 순회하는 루플를 실행할때 유용하다"
   ]
  },
  {
   "cell_type": "code",
   "execution_count": 53,
   "metadata": {},
   "outputs": [
    {
     "ename": "NameError",
     "evalue": "name 'randint' is not defined",
     "output_type": "error",
     "traceback": [
      "\u001b[0;31m---------------------------------------------------------------------------\u001b[0m",
      "\u001b[0;31mNameError\u001b[0m                                 Traceback (most recent call last)",
      "\u001b[0;32m<ipython-input-53-518a98fac243>\u001b[0m in \u001b[0;36m<module>\u001b[0;34m\u001b[0m\n\u001b[1;32m      1\u001b[0m \u001b[0mrandom_bits\u001b[0m \u001b[0;34m=\u001b[0m \u001b[0;36m0\u001b[0m\u001b[0;34m\u001b[0m\u001b[0;34m\u001b[0m\u001b[0m\n\u001b[1;32m      2\u001b[0m \u001b[0;32mfor\u001b[0m \u001b[0mi\u001b[0m \u001b[0;32min\u001b[0m \u001b[0mrange\u001b[0m\u001b[0;34m(\u001b[0m\u001b[0;36m64\u001b[0m\u001b[0;34m)\u001b[0m\u001b[0;34m:\u001b[0m\u001b[0;34m\u001b[0m\u001b[0;34m\u001b[0m\u001b[0m\n\u001b[0;32m----> 3\u001b[0;31m     \u001b[0;32mif\u001b[0m \u001b[0mrandint\u001b[0m\u001b[0;34m(\u001b[0m\u001b[0;36m0\u001b[0m\u001b[0;34m,\u001b[0m \u001b[0;36m1\u001b[0m\u001b[0;34m)\u001b[0m\u001b[0;34m:\u001b[0m\u001b[0;34m\u001b[0m\u001b[0;34m\u001b[0m\u001b[0m\n\u001b[0m\u001b[1;32m      4\u001b[0m         \u001b[0mrandom_bits\u001b[0m \u001b[0;34m|=\u001b[0m\u001b[0;36m1\u001b[0m \u001b[0;34m<<\u001b[0m \u001b[0mi\u001b[0m\u001b[0;34m\u001b[0m\u001b[0;34m\u001b[0m\u001b[0m\n",
      "\u001b[0;31mNameError\u001b[0m: name 'randint' is not defined"
     ]
    }
   ],
   "source": [
    "random_bits = 0\n",
    "for i in range(64):\n",
    "    if randint(0, 1):\n",
    "        random_bits |=1 << i"
   ]
  },
  {
   "cell_type": "code",
   "execution_count": 55,
   "metadata": {},
   "outputs": [
    {
     "name": "stdout",
     "output_type": "stream",
     "text": [
      "1: vanila\n",
      "2: chocolate\n",
      "3: pecan\n",
      "4: strawberry\n",
      "----------------\n",
      "1: vanila\n",
      "2: chocolate\n",
      "3: pecan\n",
      "4: strawberry\n"
     ]
    }
   ],
   "source": [
    "# 리스트 길이 만큼 순회가기 \n",
    "# range 사용\n",
    "flavor_list = ['vanila', 'chocolate', 'pecan', 'strawberry']\n",
    "for i in range(len(flavor_list)):\n",
    "    flavor = flavor_list[i]\n",
    "    print('%d: %s' % (i+1, flavor))\n",
    "\n",
    "# 위의 코드는 리스트의 길이를 알아내야 하고, 배열을 인덱스로 접근해야 하며, 읽기 불편하다.\n",
    "print('----------------')\n",
    "# enumerate 사용\n",
    "for i, flavor in enumerate(flavor_list):\n",
    "    print('%d: %s' % (i+1, flavor))"
   ]
  },
  {
   "cell_type": "code",
   "execution_count": 57,
   "metadata": {},
   "outputs": [
    {
     "name": "stdout",
     "output_type": "stream",
     "text": [
      "1: vanila\n",
      "2: chocolate\n",
      "3: pecan\n",
      "4: strawberry\n"
     ]
    }
   ],
   "source": [
    "# enumerate로 세기 시작할 숫자를 지정하면 코드를 더 짧게 만들 수 있다.\n",
    "for i, flavor in enumerate(flavor_list, 1):\n",
    "    print('%d: %s' % (i, flavor))"
   ]
  },
  {
   "cell_type": "markdown",
   "metadata": {},
   "source": [
    "### - Better Way 11 이터레이터를 병렬로 처리하려면 zip을 사용하자.\n",
    "\n",
    "파이썬에서 관련 객체로 구성된 리스트를 많이 사용한다는 사실은 쉽게 알 수 있다.  \n",
    "리스트 컴프리헨션을 사용하면 소스 리스트에 표현식을 적용하여 파생 리스트를 쉽게 얻을 수 있다."
   ]
  },
  {
   "cell_type": "code",
   "execution_count": 59,
   "metadata": {},
   "outputs": [
    {
     "name": "stdout",
     "output_type": "stream",
     "text": [
      "Cecilia\n"
     ]
    }
   ],
   "source": [
    "names = ['Cecilia', 'Lise', 'Marie']\n",
    "letters = [len(n) for n in names]\n",
    "\n",
    "'''\n",
    "    파생 리스트의 아이템과 소스 리스트의 아이템은 서로의 인덱스로 연관되어 있다.\n",
    "    따라서 두 리스트를 병렬로 순회하려면 소스 리스트인 names의 길이만큼 순회하면 된다.\n",
    "'''\n",
    "\n",
    "longest_name = None\n",
    "max_letters = 0\n",
    "\n",
    "for i in range(len(names)):\n",
    "    count = letters[i]\n",
    "    if count > max_letters:\n",
    "        longest_name = names[i]\n",
    "        max_letters = count\n",
    "\n",
    "print(longest_name)"
   ]
  },
  {
   "cell_type": "code",
   "execution_count": 60,
   "metadata": {},
   "outputs": [],
   "source": [
    "'''\n",
    "    위 예제의 문제는 전체 루프문이 별로 보기 안좋다는 것이다. \n",
    "    names와 lettesr를 인덱스로 접근하면 코드를 읽기 어려워진다. \n",
    "    루프의 인덱스 i로 배열에 접근하는 동작이 두 번 일어난다.\n",
    "    enumerate를 사용하면 이런 문제점을 약간 개선할 수 있지만, 여전히 완벽하지는 않다.\n",
    "'''\n",
    "for i, name in enumerate(names):\n",
    "    count = letters[i]\n",
    "    if count >  max_letters:\n",
    "        longet_name = name\n",
    "        max_letters = count\n",
    "\n",
    "'''\n",
    "    파이썬은 위의 코드를 좀 더 명료하게 하는 내장함수 zip을 제공한다. \n",
    "    파이썬 3에서 zip은 지연 제너레이터로 이터레이터 두 개 이상을 감싼다.\n",
    "    zip 제너레이터는 각 이터레이터로부터 다음 값을 담은 튜플을 얻어온다.\n",
    "    zip 제너레이터를 사용한 코드는 다중 리스트에서 인덱스로 접근하는 코드보다 훨씬 명료하다. \n",
    "'''\n",
    "\n",
    "for name, count in zip(names, letters):\n",
    "    if count > max_letters:\n",
    "        lognest_name = name\n",
    "        max_letters = count"
   ]
  },
  {
   "cell_type": "code",
   "execution_count": 62,
   "metadata": {},
   "outputs": [
    {
     "data": {
      "text/plain": [
       "[('Cecilia', 7), ('Lise', 4), ('Marie', 5)]"
      ]
     },
     "execution_count": 62,
     "metadata": {},
     "output_type": "execute_result"
    }
   ],
   "source": [
    "list(zip(names, letters))"
   ]
  },
  {
   "cell_type": "markdown",
   "metadata": {},
   "source": [
    "**zip으로 실행할 리스트의 길이가 같다고 확신 할 수 없다면 내장 모듈 itertools의 zip_longest를 사용하는 방안을 고려해보자**"
   ]
  },
  {
   "cell_type": "markdown",
   "metadata": {},
   "source": [
    "### - Better Way 12 for와 while 루프 뒤에는 else 블록을 쓰지 말자\n",
    "\n",
    "파이썬의 루프에는 대부분의 다른 프로그래밍 언어에서 없는 추가적인 기능이 있다.\n",
    "루프에서 반복되는 내부 블록 다음에 else 블록을 둘 수 있는 기능이다."
   ]
  },
  {
   "cell_type": "code",
   "execution_count": 63,
   "metadata": {},
   "outputs": [
    {
     "name": "stdout",
     "output_type": "stream",
     "text": [
      "Loop 0\n",
      "Loop 1\n",
      "Loop 2\n",
      "Else block!\n"
     ]
    }
   ],
   "source": [
    "for i in range(3):\n",
    "    print('Loop %d' % i)\n",
    "else: \n",
    "    print('Else block!')"
   ]
  },
  {
   "cell_type": "markdown",
   "metadata": {},
   "source": [
    "elae 블록은 루프가 종료되자마자 실행된다.  \n",
    "루프에서 break문을 사용해야 else 블록을 건너 뛸 수 있다."
   ]
  },
  {
   "cell_type": "code",
   "execution_count": 64,
   "metadata": {},
   "outputs": [
    {
     "name": "stdout",
     "output_type": "stream",
     "text": [
      "Loop: 0\n",
      "Loop: 1\n"
     ]
    }
   ],
   "source": [
    "for i in range(3):\n",
    "    print('Loop: %d' % i)\n",
    "    if i == 1:\n",
    "        break\n",
    "else:\n",
    "    print('Else Block')"
   ]
  },
  {
   "cell_type": "markdown",
   "metadata": {},
   "source": [
    "다른 놀랄 만한 점은 빈 시퀀스를 처리하는 루프문에서도 else 블록이 즉시 실행된다는 것이다."
   ]
  },
  {
   "cell_type": "code",
   "execution_count": 65,
   "metadata": {},
   "outputs": [
    {
     "name": "stdout",
     "output_type": "stream",
     "text": [
      "For Else Block!\n"
     ]
    }
   ],
   "source": [
    "for x in []:\n",
    "    print(\"Never runs\")\n",
    "else:\n",
    "    print('For Else Block!')"
   ]
  },
  {
   "cell_type": "code",
   "execution_count": 66,
   "metadata": {},
   "outputs": [
    {
     "name": "stdout",
     "output_type": "stream",
     "text": [
      "While else block\n"
     ]
    }
   ],
   "source": [
    "# else 블록은 while 루프가 처음부터 거짓인 경우에도 실행된다.\n",
    "\n",
    "while False:\n",
    "    print('Never runs')\n",
    "else:\n",
    "    print('While else block')"
   ]
  },
  {
   "cell_type": "markdown",
   "metadata": {},
   "source": [
    "**루프 뒤에 else 블록을 사용하면 직관적이지 않고 혼동하기 쉬우니 사용하지 말아야 한다.**"
   ]
  },
  {
   "cell_type": "markdown",
   "metadata": {},
   "source": [
    "### - Better Way 13 try / except / else / finality에서 각 블록의 장점을 이용하자\n",
    "\n",
    "파이썬에는 예외 처리 과정에서 동작을 넣을 수 있는 네 번의 구분되는 시점이 있다."
   ]
  },
  {
   "cell_type": "code",
   "execution_count": 67,
   "metadata": {},
   "outputs": [
    {
     "ename": "FileNotFoundError",
     "evalue": "[Errno 2] No such file or directory: '/tmp/random_data.txt'",
     "output_type": "error",
     "traceback": [
      "\u001b[0;31m---------------------------------------------------------------------------\u001b[0m",
      "\u001b[0;31mFileNotFoundError\u001b[0m                         Traceback (most recent call last)",
      "\u001b[0;32m<ipython-input-67-9120b8a055dc>\u001b[0m in \u001b[0;36m<module>\u001b[0;34m\u001b[0m\n\u001b[1;32m      2\u001b[0m \u001b[0;31m# 예외를 전달하고 싶지만, 예외가 발생해도 정리 코드를 실행하고 싶을 때 try / finally 사용하면 된다.\u001b[0m\u001b[0;34m\u001b[0m\u001b[0;34m\u001b[0m\u001b[0;34m\u001b[0m\u001b[0m\n\u001b[1;32m      3\u001b[0m \u001b[0;34m\u001b[0m\u001b[0m\n\u001b[0;32m----> 4\u001b[0;31m \u001b[0mhandle\u001b[0m \u001b[0;34m=\u001b[0m \u001b[0mopen\u001b[0m\u001b[0;34m(\u001b[0m\u001b[0;34m'/tmp/random_data.txt'\u001b[0m\u001b[0;34m)\u001b[0m \u001b[0;31m# IOError가 일어날 수 있음\u001b[0m\u001b[0;34m\u001b[0m\u001b[0;34m\u001b[0m\u001b[0m\n\u001b[0m\u001b[1;32m      5\u001b[0m \u001b[0;34m\u001b[0m\u001b[0m\n\u001b[1;32m      6\u001b[0m \u001b[0;32mtry\u001b[0m\u001b[0;34m:\u001b[0m\u001b[0;34m\u001b[0m\u001b[0;34m\u001b[0m\u001b[0m\n",
      "\u001b[0;31mFileNotFoundError\u001b[0m: [Errno 2] No such file or directory: '/tmp/random_data.txt'"
     ]
    }
   ],
   "source": [
    "# finally 블록\n",
    "# 예외를 전달하고 싶지만, 예외가 발생해도 정리 코드를 실행하고 싶을 때 try / finally 사용하면 된다.\n",
    "\n",
    "handle = open('/tmp/random_data.txt') # IOError가 일어날 수 있음\n",
    "\n",
    "try:\n",
    "    data = handle.read()\n",
    "finally:\n",
    "    handle.close() # try: 이후에 항상 실행됨."
   ]
  },
  {
   "cell_type": "code",
   "execution_count": 68,
   "metadata": {},
   "outputs": [],
   "source": [
    "# else 블록\n",
    "# 코드에서 어떤 예외를 처리하고 어떤 예외를 전달할지를 명확하게 하려면 try / except / else를 사용해야 한다.\n",
    "# try 블록이 예외를 일으키지 않으면 else 블록이 실행된다. else 블록을 사용하면 try 블록의 코드를 최소로 줄이고 가독성을 높일 수 있다.\n",
    "\n",
    "def load_json_key(data, key):\n",
    "    try:\n",
    "        result_dict = json.loads(data) # ValueError가 일어날 수 있음\n",
    "    except ValueError as e:\n",
    "        raise KeyError from e\n",
    "    else:\n",
    "        return result_dict[key] # keyError가 일어날 수 있음"
   ]
  },
  {
   "cell_type": "code",
   "execution_count": 69,
   "metadata": {},
   "outputs": [],
   "source": [
    "# 모두 함께 사용하기\n",
    "# 복합문 하나로 모든 것을 처리하고 싶다면 try / except / else / finally를 사용하면 된다.\n",
    "\n",
    "UNDEFIEND = object()\n",
    "def divide_json(path):\n",
    "    handle = open(path, 'r+')\n",
    "    try:\n",
    "        data = handle.read() # UnicodeDecodeError가 일어날 수 있음\n",
    "        op = json.loads(data) # ValueError가 일어날 수 있음\n",
    "        value = (\n",
    "            op['numerator'] /\n",
    "            op['denominator'] # ZerorDivisionError가 일어날 수 있음\n",
    "        )\n",
    "    except ZerorDvivisonError as e:\n",
    "        return UNDEFIEND\n",
    "    else:\n",
    "        op['result'] = value\n",
    "        result = json.dumps(op)\n",
    "        handle.seek(0)\n",
    "        handlre.write(result)\n",
    "        return value\n",
    "    finally:\n",
    "        handle.close()"
   ]
  },
  {
   "cell_type": "markdown",
   "metadata": {},
   "source": [
    "## 함수\n",
    "\n",
    "### - Better Way 14 None을 반환하기보다는 예외를 일으키자.\n",
    "\n",
    "파이썬 프로그래머들은 유틸리티 함수를 작성할 때 반환 값  None에 특별한 의미를 부여하는 경향이 있다.  \n",
    "어떤 경우에는 일리 있어 보인다. 예를 들어 어떤 숫자를 다른 숫자로 나누는 헬퍼 함수를 생각해보자. 0으로 나누는 경우에는 결과가 정의되어 있지 않기때문에 None을 반환하는게 자연스럽다."
   ]
  },
  {
   "cell_type": "code",
   "execution_count": 71,
   "metadata": {},
   "outputs": [],
   "source": [
    "def divide(a, b):\n",
    "    try:\n",
    "        return a / b\n",
    "    except ZeroDivisionError:\n",
    "        return None\n",
    "\n",
    "# 이 함수를 사용하는 코드는 반환 값을 다음과 같이 해석한다.\n",
    "\n",
    "x, y = 0, 5\n",
    "result = divide(x, y)\n",
    "if result is None:\n",
    "    print('Invalid inputs')"
   ]
  },
  {
   "cell_type": "code",
   "execution_count": 72,
   "metadata": {},
   "outputs": [
    {
     "name": "stdout",
     "output_type": "stream",
     "text": [
      "Result is 2.5\n"
     ]
    }
   ],
   "source": [
    "def divide(a,b):\n",
    "    try:\n",
    "        return a / b\n",
    "    except ZeroDivisionError as e:\n",
    "        raise ValueError('Invalid Inputs') from e\n",
    "\n",
    "x, y = 5, 2\n",
    "try:\n",
    "    result = divide(x, y)\n",
    "except ValueError:\n",
    "    print('invalid inputs')\n",
    "else:\n",
    "    print('Result is %.1f' % result)"
   ]
  },
  {
   "cell_type": "markdown",
   "metadata": {},
   "source": [
    "### - Better Way 15 클로저가 변수 스코프와 상호 작용하는 방법을 알자\n",
    "\n",
    "숫자 리스트를 정렬할 때 특정 그룹의 숫자들이 먼저 오도록 우선순위를 매기려고 한다고 하자.  \n",
    "이런 패턴은 사용자 인터페이스를 표현하거나, 다른 것보다 중요한 메시지거나 예외 이벤트를 먼저 보여줘야 할 때 유용하다.  \n",
    "\n",
    "이렇게 만드는 일반적인 방법은 리스트의 sort 메서드에 헬퍼 함수를 key 인수로 넘기는 것이다. 헬퍼의 반환 값은 리스트에 있는 각 아이템을 정렬하는 값으로 사용된다. 헬퍼는 주어진 아이템이 중요한 그룹에 있는지 확인하고 그에 따라 정렬키를 다르게 할 수 있다."
   ]
  },
  {
   "cell_type": "code",
   "execution_count": 73,
   "metadata": {},
   "outputs": [
    {
     "name": "stdout",
     "output_type": "stream",
     "text": [
      "[2, 3, 5, 7, 1, 4, 6, 8]\n"
     ]
    }
   ],
   "source": [
    "def sort_priority(values, group):\n",
    "    def helper(x):\n",
    "        if x in group:\n",
    "            return (0, x)\n",
    "        return (1, x)\n",
    "    values.sort(key=helper)\n",
    "    \n",
    "# 이 함수는 간단한 입력값에 사용한다.\n",
    "\n",
    "numbers = [8, 3, 1, 2, 5, 4, 7, 6]\n",
    "group = {2, 3, 5, 7}\n",
    "sort_priority(numbers, group)\n",
    "print(numbers)"
   ]
  },
  {
   "cell_type": "markdown",
   "metadata": {},
   "source": [
    "**1) 파이썬은 클로저를 지원한다. 클로저란 자신이 정의된 스코프에 있는 변수를 참조하는 함수다. 바로 이 점 덕분에 helper 함수가 sort_priory의 group 인수에 접근할 수 있다.**\n",
    "\n",
    "**2) 함수는 파이썬에서 일급 객체다. 이 말은 함수를 직접 참조하고, 변수에 할당하고, 다른 함수의 인수로 전달하고, 표현식과 if문 등에서 비교할 수 있다는 의미다. 따라서 sort 메서드에서 클로저 함수를 key 인수로 받을 수 있다.**\n",
    "\n",
    "**3) 파이썬에는 튜플을 비교하는 특정한 규칙이 있다. 먼저 인덱스 0으로 아이템을 비교하고 그 다음으로 인덱스 1, 다음은 인덱스 2와 같이 진행한다. helper 클로저의 반환 값이 정렬 순서를 분리된 두 그룹으로 나뉘게 한 건 이 규칙때문이다.**\n"
   ]
  },
  {
   "cell_type": "code",
   "execution_count": 75,
   "metadata": {},
   "outputs": [
    {
     "name": "stdout",
     "output_type": "stream",
     "text": [
      "Found:  False\n",
      "[2, 3, 5, 7, 1, 4, 6, 8]\n"
     ]
    }
   ],
   "source": [
    "def sort_priority2(numbers, group):\n",
    "    found = False\n",
    "    def helper(x):\n",
    "        if x in group:\n",
    "            found = True\n",
    "            return (0, x)\n",
    "        return (1, x)\n",
    "    numbers.sort(key=helper)\n",
    "    return found\n",
    "\n",
    "found = sort_priority2(numbers, group)\n",
    "print('Found: ', found)\n",
    "print(numbers)"
   ]
  },
  {
   "cell_type": "markdown",
   "metadata": {},
   "source": [
    "정렬된 결과는 올바르지만 found 결과는 틀렸다.  \n",
    "group에 속한 아이템을 numbers에서 찾을 수 있었지만 함수는 False를 반환했다.  \n",
    "어째서 이런 일이 일어났을까 ??  \n",
    "\n",
    "표현식에서 변수를 참조할 때 파이썬 인터프리터는 참조를 해결할려고 다음과 같은 순서로 스코프를 탐색한다.  \n",
    "\n",
    "**1)** 현재 함수의 스코프  \n",
    "**2)** (현재 스코프를 담고 있는 다른 함수 같은) 감싸고 있는 스코프  \n",
    "**3)** 코드를 포함하고 있는 모듈의 스코프(전역 스코프라고도 함)\n",
    "**4)** (len이나 str 같은 함수를 담고 있는) 내장 스코프  \n",
    "\n",
    "이 중 어느 스코프에도 참조한 이름으로 된 변수가 정의되어 있지 않으면 NameError가 일어난다.  \n",
    "\n",
    "위와 같은 일이 발생한 것은\n",
    "인터프리터가 첫 번째 found=False 변수를 sort_priority2에서 정의된 변수로  \n",
    "두번째 found=True를 helper 함수 내에서 새롭게 정의된 변수로 본 것이다. "
   ]
  },
  {
   "cell_type": "code",
   "execution_count": 76,
   "metadata": {},
   "outputs": [],
   "source": [
    "class Sorter(object):\n",
    "    def __init__(self, group):\n",
    "        self.group = group\n",
    "        self.found = False\n",
    "    \n",
    "    def __call__(self, x):\n",
    "        if x in self.group:\n",
    "            self.found = True\n",
    "            return (0, x)\n",
    "        return (1, x)\n",
    "\n",
    "sorter = Sorter(group)\n",
    "numbers.sort(key=sorter)\n",
    "assert sorter.found is True"
   ]
  },
  {
   "cell_type": "code",
   "execution_count": null,
   "metadata": {},
   "outputs": [],
   "source": []
  }
 ],
 "metadata": {
  "kernelspec": {
   "display_name": "Python 3",
   "language": "python",
   "name": "python3"
  },
  "language_info": {
   "codemirror_mode": {
    "name": "ipython",
    "version": 3
   },
   "file_extension": ".py",
   "mimetype": "text/x-python",
   "name": "python",
   "nbconvert_exporter": "python",
   "pygments_lexer": "ipython3",
   "version": "3.8.0"
  }
 },
 "nbformat": 4,
 "nbformat_minor": 2
}
