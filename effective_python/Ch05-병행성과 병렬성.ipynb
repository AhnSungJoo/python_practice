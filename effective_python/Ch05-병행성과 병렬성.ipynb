{
 "cells": [
  {
   "cell_type": "markdown",
   "metadata": {},
   "source": [
    "* 병행성: 여러 일을 동시에 수행하듯이 수행하는 것.  \n",
    "* 병렬성: 실제로 여러 작업을 동시에 실행하는 것. \n",
    "  \n",
    "- 병행 프로그램은 별개의 여러 실행 경로를 동시에 독립적으로 실행하는 것처럼 진행하게 해준다.  \n",
    "- 병렬성과 병행성의 가장 큰 차이는 속도 향상이다.  \n",
    "=> 서로 다른 두 실행 경로를 병렬로 진행하면 전체 작업에 걸리는 시간이 절반으로 줄어 든다.  \n",
    "=> 병행프로그램은 전체 작업시간에 영향을 주지 않는다.  \n"
   ]
  },
  {
   "cell_type": "markdown",
   "metadata": {},
   "source": [
    "### Better way 36 자식 프로세스를 관리하려면 sbuprocess를 사용하자"
   ]
  },
  {
   "cell_type": "code",
   "execution_count": null,
   "metadata": {},
   "outputs": [],
   "source": []
  }
 ],
 "metadata": {
  "kernelspec": {
   "display_name": "Python 3",
   "language": "python",
   "name": "python3"
  },
  "language_info": {
   "codemirror_mode": {
    "name": "ipython",
    "version": 3
   },
   "file_extension": ".py",
   "mimetype": "text/x-python",
   "name": "python",
   "nbconvert_exporter": "python",
   "pygments_lexer": "ipython3",
   "version": "3.7.2"
  }
 },
 "nbformat": 4,
 "nbformat_minor": 2
}
