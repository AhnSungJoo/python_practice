{
 "cells": [
  {
   "cell_type": "code",
   "execution_count": 1,
   "metadata": {},
   "outputs": [
    {
     "name": "stdout",
     "output_type": "stream",
     "text": [
      "['ABC', 'ACB', 'BAC', 'BCA', 'CAB', 'CBA']\n",
      "['AB', 'AC', 'BA', 'BC', 'CA', 'CB']\n"
     ]
    }
   ],
   "source": [
    "import itertools\n",
    "\n",
    "pool = ['A', 'B', 'C']\n",
    "print(list(map(''.join, itertools.permutations(pool)))) # 3개의 원소로 수열 만들기\n",
    "print(list(map(''.join, itertools.permutations(pool, 2)))) # 2개의 원소로 수열 만들기"
   ]
  },
  {
   "cell_type": "code",
   "execution_count": 29,
   "metadata": {},
   "outputs": [],
   "source": [
    "import itertools\n",
    "\n",
    "def is_prime(num):\n",
    "    if num <= 1:\n",
    "        return False\n",
    "    for i in range(2, num):\n",
    "        if num % i == 0:\n",
    "            return False\n",
    "    return True\n",
    "\n",
    "def solution(numbers):\n",
    "    answer = 0\n",
    "    numbers = list(numbers) # '17' => ['1', '7']\n",
    "    number_combination = list()\n",
    "    for i in range(1, len(numbers) + 1):\n",
    "        number_combination += list(map(int, map(''.join, itertools.permutations(numbers, i))))\n",
    "        \n",
    "    number_combination = list(set(number_combination))\n",
    "    for num in number_combination:\n",
    "        if is_prime(num):\n",
    "            print('prime: ', num)\n",
    "            answer += 1\n",
    "    return answer"
   ]
  },
  {
   "cell_type": "code",
   "execution_count": 21,
   "metadata": {},
   "outputs": [
    {
     "name": "stdout",
     "output_type": "stream",
     "text": [
      "['1', '7']\n",
      "['17', '71']\n"
     ]
    }
   ],
   "source": [
    "pool = ['1', '7']\n",
    "for i in range(1, len(pool) + 1):\n",
    "    print(list(map(''.join, itertools.permutations(pool, i))))\n"
   ]
  },
  {
   "cell_type": "code",
   "execution_count": 45,
   "metadata": {},
   "outputs": [
    {
     "name": "stdout",
     "output_type": "stream",
     "text": [
      "순열 :  ['12', '13', '14', '21', '23', '24', '31', '32', '34', '41', '42', '43']\n",
      "조합 :  ['12', '13', '14', '23', '24', '34']\n"
     ]
    }
   ],
   "source": [
    "iterable_list = ['1', '2', '3', '4']\n",
    "print('순열 : ', list(map(''.join, itertools.permutations(iterable_list, 2))))\n",
    "print('조합 : ', list(map(''.join, itertools.combinations(iterable_list, 2))))"
   ]
  },
  {
   "cell_type": "code",
   "execution_count": 41,
   "metadata": {},
   "outputs": [
    {
     "name": "stdout",
     "output_type": "stream",
     "text": [
      "순열 :  ['12', '13', '21', '23', '31', '32']\n",
      "조합 :  ['12', '13', '23']\n"
     ]
    }
   ],
   "source": [
    "pool = ['1', '2', '3']\n",
    "print('순열 : ', list(map(''.join, itertools.permutations(iterable_list, 2)))) # 3개의 원소로 수열 만들기\n",
    "print('조합 : ', list(map(''.join, itertools.combinations(iterable_list, 2)))) # 3개의 원소로 수열 만들기"
   ]
  },
  {
   "cell_type": "code",
   "execution_count": 56,
   "metadata": {},
   "outputs": [
    {
     "name": "stdout",
     "output_type": "stream",
     "text": [
      "[2, 3, 5, 7, 11, 13, 17, 19, 23, 29, 31, 37, 41, 43, 47, 53, 59, 61, 67, 71, 73, 79, 83, 89, 97, 101, 103, 107, 109, 113]\n"
     ]
    }
   ],
   "source": [
    "# 에라토스테네스의 체\n",
    "\n",
    "# n은 구하고자 하는 구간의 길이\n",
    "def eratos(n): \n",
    "    prime_check = [False, False] + [True] * (n - 1) # 소수인지 아닌지 판별한 값을 저장하는 리스트 (소수 : True ) / 0,1은 소수 X\n",
    "    primes = list() # 소수들을 담을 리스트\n",
    "    for i in range(2, int(n ** 0.5) + 1): # 2부터 n ** 0.5(배수를 해주기 때문에)까지 루프를돕니다. \n",
    "        for j in range(i*2, n+1, i): # 2의 배수, 3의 배수를 지워나갑니다. \n",
    "            prime_check[j] = False\n",
    "            \n",
    "    for idx, flag in enumerate(prime_check): # 소수인 것들만 primes 리스트에 추가해줍니다.\n",
    "        if flag:\n",
    "            primes.append(idx)\n",
    "    \n",
    "    return primes\n",
    "\n",
    "print(eratos(121))"
   ]
  },
  {
   "cell_type": "code",
   "execution_count": 67,
   "metadata": {},
   "outputs": [
    {
     "name": "stdout",
     "output_type": "stream",
     "text": [
      "set: {0, 1}\n",
      "set: {1, 10}\n",
      "{0, 1, 10}\n"
     ]
    }
   ],
   "source": [
    "# 에러토스테네스의 체 2\n",
    "from itertools import permutations\n",
    "\n",
    "def solution(n):\n",
    "    a = set()\n",
    "    for i in range(len(n)):\n",
    "        print('set:' ,set(map(int, map(\"\".join, permutations(list(n), i + 1)))))\n",
    "        a |= set(map(int, map(\"\".join, permutations(list(n), i + 1))))\n",
    "    print(a)\n",
    "solution('10')"
   ]
  },
  {
   "cell_type": "code",
   "execution_count": null,
   "metadata": {},
   "outputs": [],
   "source": []
  }
 ],
 "metadata": {
  "kernelspec": {
   "display_name": "Python 3",
   "language": "python",
   "name": "python3"
  },
  "language_info": {
   "codemirror_mode": {
    "name": "ipython",
    "version": 3
   },
   "file_extension": ".py",
   "mimetype": "text/x-python",
   "name": "python",
   "nbconvert_exporter": "python",
   "pygments_lexer": "ipython3",
   "version": "3.7.2"
  }
 },
 "nbformat": 4,
 "nbformat_minor": 2
}
