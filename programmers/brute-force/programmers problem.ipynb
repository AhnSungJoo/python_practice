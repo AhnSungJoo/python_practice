{
 "cells": [
  {
   "cell_type": "code",
   "execution_count": 16,
   "metadata": {},
   "outputs": [
    {
     "name": "stdout",
     "output_type": "stream",
     "text": [
      "24 24\n",
      "[8, 6]\n"
     ]
    }
   ],
   "source": [
    "# 카펫 문제\n",
    "brown, red = list(map(int, input().split()))\n",
    "answer = list()\n",
    "for i in range(1, red + 1): # i 를 세로\n",
    "    if red % i == 0:\n",
    "        if i * 2 + (red // i) * 2 + 4 == brown:\n",
    "            answer = [ i + 2, (red // i) + 2]\n",
    "print(answer)"
   ]
  },
  {
   "cell_type": "code",
   "execution_count": 8,
   "metadata": {},
   "outputs": [
    {
     "data": {
      "text/plain": [
       "0"
      ]
     },
     "execution_count": 8,
     "metadata": {},
     "output_type": "execute_result"
    }
   ],
   "source": [
    "1 % 1"
   ]
  },
  {
   "cell_type": "code",
   "execution_count": 17,
   "metadata": {},
   "outputs": [],
   "source": [
    "# 완주하지 못한 선수\n",
    "def key_counter(input_arr):\n",
    "    counter_dict = dict()\n",
    "    for data in input_arr:\n",
    "        if data in counter_dict:\n",
    "            counter_dict[data] += 1\n",
    "        else:\n",
    "            counter_dict[data] = 1\n",
    "\n",
    "    return counter_dict\n",
    "\n",
    "def solution(participant, completion):\n",
    "    answer = ''\n",
    "    participant_counter = key_counter(participant)\n",
    "    completion_counter = key_counter(completion)\n",
    "    for _key in participant_counter.keys():\n",
    "        if _key in completion_counter:\n",
    "            if participant_counter[_key] != completion_counter[_key]:\n",
    "                answer = _key\n",
    "                break\n",
    "        else:\n",
    "            answer = _key\n",
    "            break\n",
    "    return answer"
   ]
  },
  {
   "cell_type": "code",
   "execution_count": 18,
   "metadata": {},
   "outputs": [],
   "source": [
    "# 완주하지 못한 선수 다른 풀이 - 1\n",
    "import collections\n",
    "\n",
    "\n",
    "def solution(participant, completion):\n",
    "    answer = collections.Counter(participant) - collections.Counter(completion)\n",
    "    return list(answer.keys())[0]\n"
   ]
  },
  {
   "cell_type": "code",
   "execution_count": 19,
   "metadata": {},
   "outputs": [],
   "source": [
    "# 2\n",
    "def solution(participant, completion):\n",
    "    answer = ''\n",
    "    temp = 0\n",
    "    dic = {}\n",
    "    for part in participant:\n",
    "        dic[hash(part)] = part\n",
    "        temp += int(hash(part))\n",
    "    for com in completion:\n",
    "        temp -= hash(com)\n",
    "    answer = dic[temp]\n",
    "\n",
    "    return answer"
   ]
  },
  {
   "cell_type": "code",
   "execution_count": 21,
   "metadata": {},
   "outputs": [],
   "source": [
    "# 3\n",
    "def solution(participant, completion):\n",
    "    participant.sort()\n",
    "    completion.sort()\n",
    "    for i in range(len(completion)):\n",
    "        if participant[i] != completion[i]:\n",
    "            return participant[i]\n",
    "    return participant[len(participant)-1]"
   ]
  },
  {
   "cell_type": "code",
   "execution_count": 37,
   "metadata": {},
   "outputs": [
    {
     "name": "stdout",
     "output_type": "stream",
     "text": [
      "6210\n"
     ]
    }
   ],
   "source": [
    "# 가장 큰 수\n",
    "\n",
    "from itertools import combinations , permutations\n",
    "def solution(numbers):\n",
    "    answer = ''\n",
    "    temp_list = list(int(j) for j in list(map(''.join, permutations([str(i) for i in numbers ], len(numbers)))))\n",
    "    answer = str(sorted(temp_list)[-1])\n",
    "\n",
    "    return answer\n",
    "print(solution([6, 10, 2]))"
   ]
  },
  {
   "cell_type": "code",
   "execution_count": null,
   "metadata": {},
   "outputs": [],
   "source": []
  }
 ],
 "metadata": {
  "kernelspec": {
   "display_name": "Python 3",
   "language": "python",
   "name": "python3"
  },
  "language_info": {
   "codemirror_mode": {
    "name": "ipython",
    "version": 3
   },
   "file_extension": ".py",
   "mimetype": "text/x-python",
   "name": "python",
   "nbconvert_exporter": "python",
   "pygments_lexer": "ipython3",
   "version": "3.7.2"
  }
 },
 "nbformat": 4,
 "nbformat_minor": 2
}
