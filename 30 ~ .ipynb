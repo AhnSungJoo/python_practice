{
 "cells": [
  {
   "cell_type": "code",
   "execution_count": 1,
   "metadata": {},
   "outputs": [
    {
     "name": "stdout",
     "output_type": "stream",
     "text": [
      "저 넓은 세상을 네 눈앞에 그려봐 네 진심을 느껴봐\n",
      "9\n"
     ]
    }
   ],
   "source": [
    "# 32번 - 단어 수 세기 \n",
    "print(len(input().split(' ')))"
   ]
  },
  {
   "cell_type": "code",
   "execution_count": 27,
   "metadata": {},
   "outputs": [
    {
     "name": "stdout",
     "output_type": "stream",
     "text": [
      "1 2 3 4 5\n",
      "5 4 3 2 1 "
     ]
    }
   ],
   "source": [
    "# 33번 - 거꾸로 출력하기\n",
    "num_list = list(map(int, input().split(' ')))\n",
    "for data in reversed(num_list):\n",
    "    print(data , end=' ')"
   ]
  },
  {
   "cell_type": "code",
   "execution_count": 23,
   "metadata": {},
   "outputs": [
    {
     "name": "stdout",
     "output_type": "stream",
     "text": [
      "1 2 3 4 5\n",
      "YES\n"
     ]
    }
   ],
   "source": [
    "# 34번 - sort 구현하기\n",
    "n = list(map(int, input().split()))\n",
    "sorted_n = sorted(n)\n",
    "\n",
    "if n == sorted_n:\n",
    "    print('YES')\n",
    "else:\n",
    "    print('NO')"
   ]
  },
  {
   "cell_type": "code",
   "execution_count": 25,
   "metadata": {},
   "outputs": [
    {
     "ename": "TypeError",
     "evalue": "two() takes 0 positional arguments but 1 was given",
     "output_type": "error",
     "traceback": [
      "\u001b[0;31m---------------------------------------------------------------------------\u001b[0m",
      "\u001b[0;31mTypeError\u001b[0m                                 Traceback (most recent call last)",
      "\u001b[0;32m<ipython-input-25-f818c82d7800>\u001b[0m in \u001b[0;36m<module>\u001b[0;34m\u001b[0m\n\u001b[1;32m     15\u001b[0m \u001b[0mc\u001b[0m \u001b[0;34m=\u001b[0m \u001b[0mone\u001b[0m\u001b[0;34m(\u001b[0m\u001b[0;36m4\u001b[0m\u001b[0;34m)\u001b[0m\u001b[0;34m\u001b[0m\u001b[0;34m\u001b[0m\u001b[0m\n\u001b[1;32m     16\u001b[0m \u001b[0;34m\u001b[0m\u001b[0m\n\u001b[0;32m---> 17\u001b[0;31m \u001b[0mprint\u001b[0m\u001b[0;34m(\u001b[0m\u001b[0ma\u001b[0m\u001b[0;34m(\u001b[0m\u001b[0;36m10\u001b[0m\u001b[0;34m)\u001b[0m\u001b[0;34m)\u001b[0m\u001b[0;34m\u001b[0m\u001b[0;34m\u001b[0m\u001b[0m\n\u001b[0m\u001b[1;32m     18\u001b[0m \u001b[0mprint\u001b[0m\u001b[0;34m(\u001b[0m\u001b[0mb\u001b[0m\u001b[0;34m(\u001b[0m\u001b[0;36m10\u001b[0m\u001b[0;34m)\u001b[0m\u001b[0;34m)\u001b[0m\u001b[0;34m\u001b[0m\u001b[0;34m\u001b[0m\u001b[0m\n\u001b[1;32m     19\u001b[0m \u001b[0mprint\u001b[0m\u001b[0;34m(\u001b[0m\u001b[0mc\u001b[0m\u001b[0;34m(\u001b[0m\u001b[0;36m10\u001b[0m\u001b[0;34m)\u001b[0m\u001b[0;34m)\u001b[0m\u001b[0;34m\u001b[0m\u001b[0;34m\u001b[0m\u001b[0m\n",
      "\u001b[0;31mTypeError\u001b[0m: two() takes 0 positional arguments but 1 was given"
     ]
    }
   ],
   "source": [
    "# 35번 - Factory 함수 사용\n",
    "\n",
    "def one(n):\n",
    "    def two():\n",
    "        if n == 2:\n",
    "            return n ** 2\n",
    "        elif n == 3:\n",
    "            return n ** 3\n",
    "        elif n == 4:\n",
    "            return n ** 4\n",
    "    return two\n",
    "\n",
    "a = one(2)\n",
    "b = one(3)\n",
    "c = one(4)\n",
    "\n",
    "print(a(10))\n",
    "print(b(10))\n",
    "print(c(10))"
   ]
  },
  {
   "cell_type": "code",
   "execution_count": 26,
   "metadata": {},
   "outputs": [
    {
     "name": "stdout",
     "output_type": "stream",
     "text": [
      "2\n",
      "2 4 6 8 10 12 14 16 18 "
     ]
    }
   ],
   "source": [
    "# 36번 - 구구단 출력하기 \n",
    "n = int(input())\n",
    "for i in range(1,10):\n",
    "    print(i * n , end = ' ')"
   ]
  },
  {
   "cell_type": "code",
   "execution_count": 38,
   "metadata": {},
   "outputs": [
    {
     "name": "stdout",
     "output_type": "stream",
     "text": [
      "원영 원영 은비 은비 은비 은비 채연 채연\n",
      "은비(이)가 총 4표로 반장이 되었습니다.\n"
     ]
    }
   ],
   "source": [
    "# 37번 - count 사용하기\n",
    "students = input().split(' ')\n",
    "mx_idx = 0\n",
    "mx_count = 0\n",
    "for idx, data in enumerate(students):\n",
    "    if students.count(data) > mx_count:\n",
    "        mx_count = students.count(data)\n",
    "        mx_idx = idx\n",
    "print('{}(이)가 총 {}표로 반장이 되었습니다.'.format(students[mx_idx], mx_count))"
   ]
  },
  {
   "cell_type": "code",
   "execution_count": 48,
   "metadata": {},
   "outputs": [
    {
     "name": "stdout",
     "output_type": "stream",
     "text": [
      "97 86 75 66 55 97 85 97 97 95\n",
      "[97, 97, 97, 97, 95, 86, 85, 75, 66, 55]\n",
      "6\n"
     ]
    }
   ],
   "source": [
    "# 38번\n",
    "students = sorted(list(map(int, input().split(' '))), reverse=True)\n",
    "cnt = 0\n",
    "rank = 1\n",
    "\n",
    "for i in range(1, len(students)):\n",
    "    if (students[i - 1] == students[i] and rank <= 3) or (students[i - 1] != students[i] and rank <= 3):\n",
    "        cnt += 1\n",
    "        if students[i - 1] != students[i]:\n",
    "            rank += 1\n",
    "    if rank > 3:\n",
    "        break\n",
    "print(cnt)"
   ]
  },
  {
   "cell_type": "code",
   "execution_count": 51,
   "metadata": {},
   "outputs": [
    {
     "name": "stdout",
     "output_type": "stream",
     "text": [
      "La viq qn rosq\n",
      "La vie en rose\n"
     ]
    }
   ],
   "source": [
    "# 39 번 \n",
    "# 문장이 입력되면 모든 q를 e로 바꿔주는 프로그램\n",
    "st = input()\n",
    "print(st.replace('q', 'e'))"
   ]
  },
  {
   "cell_type": "code",
   "execution_count": 60,
   "metadata": {},
   "outputs": [
    {
     "ename": "IndentationError",
     "evalue": "expected an indented block (<ipython-input-60-f0fc8b75b629>, line 14)",
     "output_type": "error",
     "traceback": [
      "\u001b[0;36m  File \u001b[0;32m\"<ipython-input-60-f0fc8b75b629>\"\u001b[0;36m, line \u001b[0;32m14\u001b[0m\n\u001b[0;31m    print(cnt)\u001b[0m\n\u001b[0m              ^\u001b[0m\n\u001b[0;31mIndentationError\u001b[0m\u001b[0;31m:\u001b[0m expected an indented block\n"
     ]
    }
   ],
   "source": [
    "# 40 번\n",
    "weight = int(input())\n",
    "n = int(input())\n",
    "temp_list = list()\n",
    "total = 0\n",
    "cnt = 0\n",
    "for i in range(0, n):\n",
    "    temp = int(input())\n",
    "    temp_list.append(temp)\n",
    "\n",
    "for i in temp_list:\n",
    "    total += i\n",
    "    if total > weight:\n",
    "        break\n",
    "        \n",
    "print(cnt)"
   ]
  },
  {
   "cell_type": "code",
   "execution_count": null,
   "metadata": {},
   "outputs": [],
   "source": []
  }
 ],
 "metadata": {
  "kernelspec": {
   "display_name": "Python 3",
   "language": "python",
   "name": "python3"
  },
  "language_info": {
   "codemirror_mode": {
    "name": "ipython",
    "version": 3
   },
   "file_extension": ".py",
   "mimetype": "text/x-python",
   "name": "python",
   "nbconvert_exporter": "python",
   "pygments_lexer": "ipython3",
   "version": "3.7.2"
  }
 },
 "nbformat": 4,
 "nbformat_minor": 2
}
