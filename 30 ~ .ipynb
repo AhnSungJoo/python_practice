{
 "cells": [
  {
   "cell_type": "code",
   "execution_count": 1,
   "metadata": {},
   "outputs": [
    {
     "name": "stdout",
     "output_type": "stream",
     "text": [
      "저 넓은 세상을 네 눈앞에 그려봐 네 진심을 느껴봐\n",
      "9\n"
     ]
    }
   ],
   "source": [
    "# 32번 - 단어 수 세기 \n",
    "print(len(input().split(' ')))"
   ]
  },
  {
   "cell_type": "code",
   "execution_count": 27,
   "metadata": {},
   "outputs": [
    {
     "name": "stdout",
     "output_type": "stream",
     "text": [
      "1 2 3 4 5\n",
      "5 4 3 2 1 "
     ]
    }
   ],
   "source": [
    "# 33번 - 거꾸로 출력하기\n",
    "num_list = list(map(int, input().split(' ')))\n",
    "for data in reversed(num_list):\n",
    "    print(data , end=' ')"
   ]
  },
  {
   "cell_type": "code",
   "execution_count": 23,
   "metadata": {},
   "outputs": [
    {
     "name": "stdout",
     "output_type": "stream",
     "text": [
      "1 2 3 4 5\n",
      "YES\n"
     ]
    }
   ],
   "source": [
    "# 34번 - sort 구현하기\n",
    "n = list(map(int, input().split()))\n",
    "sorted_n = sorted(n)\n",
    "\n",
    "if n == sorted_n:\n",
    "    print('YES')\n",
    "else:\n",
    "    print('NO')"
   ]
  },
  {
   "cell_type": "code",
   "execution_count": 63,
   "metadata": {},
   "outputs": [
    {
     "name": "stdout",
     "output_type": "stream",
     "text": [
      "100\n",
      "1000\n",
      "10000\n"
     ]
    }
   ],
   "source": [
    "# 35번 - Factory 함수 사용\n",
    "\n",
    "def one(n):\n",
    "    def two(value):\n",
    "        return value ** n\n",
    "    return two\n",
    "\n",
    "a = one(2)\n",
    "b = one(3)\n",
    "c = one(4)\n",
    "\n",
    "print(a(10))\n",
    "print(b(10))\n",
    "print(c(10))"
   ]
  },
  {
   "cell_type": "code",
   "execution_count": 26,
   "metadata": {},
   "outputs": [
    {
     "name": "stdout",
     "output_type": "stream",
     "text": [
      "2\n",
      "2 4 6 8 10 12 14 16 18 "
     ]
    }
   ],
   "source": [
    "# 36번 - 구구단 출력하기 \n",
    "n = int(input())\n",
    "for i in range(1,10):\n",
    "    print(i * n , end = ' ')"
   ]
  },
  {
   "cell_type": "code",
   "execution_count": 38,
   "metadata": {},
   "outputs": [
    {
     "name": "stdout",
     "output_type": "stream",
     "text": [
      "원영 원영 은비 은비 은비 은비 채연 채연\n",
      "은비(이)가 총 4표로 반장이 되었습니다.\n"
     ]
    }
   ],
   "source": [
    "# 37번 - count 사용하기\n",
    "students = input().split(' ')\n",
    "mx_idx = 0\n",
    "mx_count = 0\n",
    "for idx, data in enumerate(students):\n",
    "    if students.count(data) > mx_count:\n",
    "        mx_count = students.count(data)\n",
    "        mx_idx = idx\n",
    "print('{}(이)가 총 {}표로 반장이 되었습니다.'.format(students[mx_idx], mx_count))"
   ]
  },
  {
   "cell_type": "code",
   "execution_count": 48,
   "metadata": {},
   "outputs": [
    {
     "name": "stdout",
     "output_type": "stream",
     "text": [
      "97 86 75 66 55 97 85 97 97 95\n",
      "[97, 97, 97, 97, 95, 86, 85, 75, 66, 55]\n",
      "6\n"
     ]
    }
   ],
   "source": [
    "# 38번\n",
    "students = sorted(list(map(int, input().split(' '))), reverse=True)\n",
    "cnt = 0\n",
    "rank = 1\n",
    "\n",
    "for i in range(1, len(students)):\n",
    "    if (students[i - 1] == students[i] and rank <= 3) or (students[i - 1] != students[i] and rank <= 3):\n",
    "        cnt += 1\n",
    "        if students[i - 1] != students[i]:\n",
    "            rank += 1\n",
    "    if rank > 3:\n",
    "        break\n",
    "print(cnt)"
   ]
  },
  {
   "cell_type": "code",
   "execution_count": 51,
   "metadata": {},
   "outputs": [
    {
     "name": "stdout",
     "output_type": "stream",
     "text": [
      "La viq qn rosq\n",
      "La vie en rose\n"
     ]
    }
   ],
   "source": [
    "# 39 번 \n",
    "# 문장이 입력되면 모든 q를 e로 바꿔주는 프로그램\n",
    "st = input()\n",
    "print(st.replace('q', 'e'))"
   ]
  },
  {
   "cell_type": "code",
   "execution_count": 62,
   "metadata": {},
   "outputs": [
    {
     "name": "stdout",
     "output_type": "stream",
     "text": [
      "50\n",
      "5\n",
      "20\n",
      "20\n",
      "20\n",
      "20\n",
      "20\n",
      "2\n"
     ]
    }
   ],
   "source": [
    "# 40 번\n",
    "weight = int(input())\n",
    "n = int(input())\n",
    "temp_list = list()\n",
    "total = 0\n",
    "cnt = 0\n",
    "for i in range(0, n):\n",
    "    temp = int(input())\n",
    "    temp_list.append(temp)\n",
    "\n",
    "for i in temp_list:\n",
    "    total += i\n",
    "    if total > weight:\n",
    "        break\n",
    "    cnt += 1\n",
    "print(cnt)"
   ]
  },
  {
   "cell_type": "code",
   "execution_count": 67,
   "metadata": {},
   "outputs": [
    {
     "name": "stdout",
     "output_type": "stream",
     "text": [
      "6\n",
      "NO\n"
     ]
    }
   ],
   "source": [
    "# 41번\n",
    "num = int(input())\n",
    "idx = 2\n",
    "cnt = 0\n",
    "while True: \n",
    "    if idx == num:\n",
    "        break\n",
    "    if num % idx == 0:\n",
    "        cnt += 1\n",
    "    idx += 1\n",
    "\n",
    "if cnt >= 1:\n",
    "    print(\"NO\")\n",
    "else:\n",
    "    print(\"YES\")"
   ]
  },
  {
   "cell_type": "code",
   "execution_count": 82,
   "metadata": {},
   "outputs": [
    {
     "name": "stdout",
     "output_type": "stream",
     "text": [
      "5 24\n"
     ]
    },
    {
     "data": {
      "text/plain": [
       "'SUN'"
      ]
     },
     "execution_count": 82,
     "metadata": {},
     "output_type": "execute_result"
    }
   ],
   "source": [
    "# 42번\n",
    "def solution():\n",
    "    months = {1:31, 2:29, 3:31, 4:30, 5:31, 6:30, 7:31, 8:31, 9:30, 10:31, 11:30, 12:31}\n",
    "    days = ['WED', 'THU', 'FRI', 'SAT', 'SUN', 'MON', 'TUE']\n",
    "\n",
    "    a, b = list(map(int, input().split()))\n",
    "\n",
    "    total_days = 0\n",
    "    for i in range(1, a):\n",
    "        total_days += months[i]\n",
    "\n",
    "    total_days += b - 1\n",
    "    return days[total_days % 7]\n",
    "\n",
    "\n",
    "solution()\n"
   ]
  },
  {
   "cell_type": "code",
   "execution_count": 133,
   "metadata": {},
   "outputs": [
    {
     "name": "stdout",
     "output_type": "stream",
     "text": [
      "5 24\n",
      "SUN\n"
     ]
    }
   ],
   "source": [
    "import datetime\n",
    "days = ['MON', 'TUE', 'WED', 'THU', 'FRI', 'SAT', 'SUN']\n",
    "a, b = list(map(int, input().split()))\n",
    "print(days[datetime.date(2020,a,b).weekday()])"
   ]
  },
  {
   "cell_type": "code",
   "execution_count": 100,
   "metadata": {},
   "outputs": [
    {
     "name": "stdout",
     "output_type": "stream",
     "text": [
      "6\n",
      "110\n"
     ]
    }
   ],
   "source": [
    "# 43번\n",
    "def make_binary(n):\n",
    "    if n < 2:\n",
    "        return '1'\n",
    "    else:\n",
    "        return str(make_binary(n // 2)) + str(n % 2)\n",
    "n = int(input())\n",
    "print(make_binary(n))"
   ]
  },
  {
   "cell_type": "code",
   "execution_count": 102,
   "metadata": {},
   "outputs": [
    {
     "name": "stdout",
     "output_type": "stream",
     "text": [
      "1234\n",
      "10\n"
     ]
    }
   ],
   "source": [
    "# 44번 \n",
    "n = input()\n",
    "sum_num = 0\n",
    "for i in n:\n",
    "    sum_num += int(i)\n",
    "print(sum_num)"
   ]
  },
  {
   "cell_type": "code",
   "execution_count": 113,
   "metadata": {},
   "outputs": [
    {
     "name": "stdout",
     "output_type": "stream",
     "text": [
      "['_STRUCT_TM_ITEMS', '__doc__', '__loader__', '__name__', '__package__', '__spec__', 'altzone', 'asctime', 'clock', 'ctime', 'daylight', 'get_clock_info', 'gmtime', 'localtime', 'mktime', 'monotonic', 'monotonic_ns', 'perf_counter', 'perf_counter_ns', 'process_time', 'process_time_ns', 'sleep', 'strftime', 'strptime', 'struct_time', 'time', 'time_ns', 'timezone', 'tzname', 'tzset']\n",
      "2019\n"
     ]
    }
   ],
   "source": [
    "# 45번\n",
    "import time\n",
    "print(dir(time))\n",
    "print(time.localtime().tm_year)"
   ]
  },
  {
   "cell_type": "code",
   "execution_count": 117,
   "metadata": {},
   "outputs": [
    {
     "name": "stdout",
     "output_type": "stream",
     "text": [
      "1234567891011121314151617181920\n",
      "102\n"
     ]
    }
   ],
   "source": [
    "# 46번\n",
    "num_str = ''\n",
    "for i in range(1,21):\n",
    "    num_str += str(i)\n",
    "\n",
    "num_tot = 0\n",
    "print(num_str)\n",
    "for i in num_str:\n",
    "    num_tot += int(i)\n",
    "print(num_tot)"
   ]
  },
  {
   "cell_type": "code",
   "execution_count": 118,
   "metadata": {},
   "outputs": [],
   "source": [
    "# 47 번 \n",
    "# set => len"
   ]
  },
  {
   "cell_type": "code",
   "execution_count": 119,
   "metadata": {},
   "outputs": [
    {
     "name": "stdout",
     "output_type": "stream",
     "text": [
      "aBcD\n",
      "AbCd\n"
     ]
    }
   ],
   "source": [
    "# 48 번\n",
    "n = input()\n",
    "change_n = ''\n",
    "for i in n:\n",
    "    if i.islower():\n",
    "        change_n += i.upper()\n",
    "    elif i.isupper():\n",
    "        change_n += i.lower()\n",
    "print(change_n)"
   ]
  },
  {
   "cell_type": "code",
   "execution_count": 121,
   "metadata": {},
   "outputs": [
    {
     "name": "stdout",
     "output_type": "stream",
     "text": [
      "1 2 3 4 5\n",
      "5\n"
     ]
    }
   ],
   "source": [
    "# 49 번\n",
    "nums = list(map(int, input().split(' ')))\n",
    "print(max(nums))"
   ]
  },
  {
   "cell_type": "code",
   "execution_count": 128,
   "metadata": {},
   "outputs": [
    {
     "name": "stdout",
     "output_type": "stream",
     "text": [
      "5\n",
      "4 2 3 8 5\n",
      "2 3 4 5 8 "
     ]
    }
   ],
   "source": [
    "# 50 번\n",
    "def bubble(n, data):\n",
    "    for i in range(n-1):\n",
    "        for j in range(len(data) - 1):\n",
    "            if data[j] > data[j + 1]:\n",
    "                temp = data[j]\n",
    "                data[j] = data[j + 1]\n",
    "                data[j+1] = temp\n",
    "    for i in range(n):\n",
    "        print(data[i], end=\" \")\n",
    "n = int(input())\n",
    "data = list(map(int, input().split()))\n",
    "\n",
    "bubble(n, data)"
   ]
  },
  {
   "cell_type": "code",
   "execution_count": null,
   "metadata": {},
   "outputs": [],
   "source": []
  }
 ],
 "metadata": {
  "kernelspec": {
   "display_name": "Python 3",
   "language": "python",
   "name": "python3"
  },
  "language_info": {
   "codemirror_mode": {
    "name": "ipython",
    "version": 3
   },
   "file_extension": ".py",
   "mimetype": "text/x-python",
   "name": "python",
   "nbconvert_exporter": "python",
   "pygments_lexer": "ipython3",
   "version": "3.7.2"
  }
 },
 "nbformat": 4,
 "nbformat_minor": 2
}
